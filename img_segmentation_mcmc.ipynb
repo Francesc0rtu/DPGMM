{
 "cells": [
  {
   "cell_type": "code",
   "execution_count": 363,
   "metadata": {},
   "outputs": [],
   "source": [
    "import matplotlib.pyplot as plt\n",
    "import numpy as np\n",
    "import pandas as pd\n",
    "from tqdm import tqdm\n",
    "\n",
    "import torch\n",
    "import torch.nn.functional as F\n",
    "from torch.distributions import constraints\n",
    "\n",
    "import pyro\n",
    "import pyro.distributions as dist\n",
    "from pyro.distributions import *\n",
    "from pyro.infer import Predictive, SVI, Trace_ELBO\n",
    "from pyro.infer.mcmc import MCMC, HMC, NUTS, mcmc_kernel\n",
    "\n",
    "from pyro.optim import Adam\n",
    "import numpy as np\n",
    "from scipy import ndimage\n",
    "import matplotlib.pyplot as plt\n",
    "from sklearn.mixture import GaussianMixture\n",
    "import warnings\n",
    "warnings.filterwarnings('ignore')\n",
    "\n",
    "assert pyro.__version__.startswith('1.8.1')\n",
    "pyro.set_rng_seed(0)"
   ]
  },
  {
   "cell_type": "code",
   "execution_count": 364,
   "metadata": {},
   "outputs": [],
   "source": [
    "def mix_weights(beta):\n",
    "    beta1m_cumprod = (1 - beta).cumprod(-1)\n",
    "    return F.pad(beta, (0, 1), value=1) * F.pad(beta1m_cumprod, (1, 0), value=1)"
   ]
  },
  {
   "cell_type": "code",
   "execution_count": 365,
   "metadata": {},
   "outputs": [
    {
     "data": {
      "text/plain": [
       "[<matplotlib.lines.Line2D at 0x281d22f5670>]"
      ]
     },
     "execution_count": 365,
     "metadata": {},
     "output_type": "execute_result"
    },
    {
     "data": {
      "image/png": "[encoded data removed]",
      "text/plain": [
       "<Figure size 432x288 with 1 Axes>"
      ]
     },
     "metadata": {
      "needs_background": "light"
     },
     "output_type": "display_data"
    }
   ],
   "source": [
    "data = torch.cat((Normal(20, .5).sample([100]),\n",
    "                  Normal(8, 1.).sample([100]),\n",
    "                  Normal(1.5, .5).sample([100]),\n",
    "                  Normal(0.5, .5).sample([100])))\n",
    "\n",
    "hist, bin_edges = np.histogram(data, bins=60)\n",
    "bin_centers = 0.5*(bin_edges[:-1] + bin_edges[1:])\n",
    "plt.plot(bin_centers, hist, lw=2)\n"
   ]
  },
  {
   "cell_type": "code",
   "execution_count": 366,
   "metadata": {},
   "outputs": [
    {
     "data": {
      "text/plain": [
       "<matplotlib.image.AxesImage at 0x281e22ecc70>"
      ]
     },
     "execution_count": 366,
     "metadata": {},
     "output_type": "execute_result"
    },
    {
     "data": {
      "image/png": "[encoded data removed]",
      "text/plain": [
       "<Figure size 432x288 with 1 Axes>"
      ]
     },
     "metadata": {
      "needs_background": "light"
     },
     "output_type": "display_data"
    }
   ],
   "source": [
    "import random\n",
    "plt.imshow(np.reshape(data, (20,20)))\n"
   ]
  },
  {
   "cell_type": "code",
   "execution_count": 430,
   "metadata": {},
   "outputs": [],
   "source": [
    "def model(data):\n",
    "    with pyro.plate(\"beta_plate\", T-1):\n",
    "        beta = pyro.sample(\"beta\", Beta(1, alpha))\n",
    "\n",
    "    with pyro.plate(\"mu_plate\", T):\n",
    "        mu = pyro.sample(\"mu\", Normal(0., 5.))\n",
    "    \n",
    "    with pyro.plate(\"sigma_plate\", T):\n",
    "        sigma = pyro.sample(\"sigma\", Uniform(0,1))\n",
    "\n",
    "    with pyro.plate(\"data\", N):\n",
    "        z = pyro.sample(\"z\", Categorical(mix_weights(beta))) \n",
    "        pyro.sample(\"obs\", Normal(mu[z], sigma[z]), obs=data)\n",
    "\n",
    "    return beta,mu,z"
   ]
  },
  {
   "cell_type": "code",
   "execution_count": 405,
   "metadata": {},
   "outputs": [
    {
     "data": {
      "image/svg+xml": "<?xml version=\"1.0\" encoding=\"UTF-8\" standalone=\"no\"?>\n<!DOCTYPE svg PUBLIC \"-//W3C//DTD SVG 1.1//EN\"\n \"http://www.w3.org/Graphics/SVG/1.1/DTD/svg11.dtd\">\n<!-- Generated by graphviz version 3.0.0 (20220226.1711)\n -->\n<!-- Pages: 1 -->\n<svg width=\"264pt\" height=\"277pt\"\n viewBox=\"0.00 0.00 264.00 277.00\" xmlns=\"http://www.w3.org/2000/svg\" xmlns:xlink=\"http://www.w3.org/1999/xlink\">\n<g id=\"graph0\" class=\"graph\" transform=\"scale(1 1) rotate(0) translate(4 273)\">\n<polygon fill=\"white\" stroke=\"transparent\" points=\"-4,4 -4,-273 260,-273 260,4 -4,4\"/>\n<g id=\"clust1\" class=\"cluster\">\n<title>cluster_beta_plate</title>\n<polygon fill=\"none\" stroke=\"black\" points=\"8,-178.5 8,-253.5 82,-253.5 82,-178.5 8,-178.5\"/>\n<text text-anchor=\"middle\" x=\"45\" y=\"-186.3\" font-family=\"Times New Roman,serif\" font-size=\"14.00\">beta_plate</text>\n</g>\n<g id=\"clust3\" class=\"cluster\">\n<title>cluster_sigma_plate</title>\n<polygon fill=\"none\" stroke=\"black\" points=\"165,-83 165,-158 248,-158 248,-83 165,-83\"/>\n<text text-anchor=\"middle\" x=\"206.5\" y=\"-90.8\" font-family=\"Times New Roman,serif\" font-size=\"14.00\">sigma_plate</text>\n</g>\n<g id=\"clust2\" class=\"cluster\">\n<title>cluster_mu_plate</title>\n<polygon fill=\"none\" stroke=\"black\" points=\"87,-83 87,-158 157,-158 157,-83 87,-83\"/>\n<text text-anchor=\"middle\" x=\"123\" y=\"-90.8\" font-family=\"Times New Roman,serif\" font-size=\"14.00\">mu_plate</text>\n</g>\n<g id=\"clust4\" class=\"cluster\">\n<title>cluster_data</title>\n<polygon fill=\"none\" stroke=\"black\" points=\"9,-8 9,-158 79,-158 79,-8 9,-8\"/>\n<text text-anchor=\"middle\" x=\"59\" y=\"-15.8\" font-family=\"Times New Roman,serif\" font-size=\"14.00\">data</text>\n</g>\n<!-- beta -->\n<g id=\"node1\" class=\"node\">\n<title>beta</title>\n<ellipse fill=\"white\" stroke=\"black\" cx=\"44\" cy=\"-227.5\" rx=\"27\" ry=\"18\"/>\n<text text-anchor=\"middle\" x=\"44\" y=\"-223.8\" font-family=\"Times New Roman,serif\" font-size=\"14.00\">beta</text>\n</g>\n<!-- z -->\n<g id=\"node4\" class=\"node\">\n<title>z</title>\n<ellipse fill=\"white\" stroke=\"black\" cx=\"44\" cy=\"-132\" rx=\"27\" ry=\"18\"/>\n<text text-anchor=\"middle\" x=\"44\" y=\"-128.3\" font-family=\"Times New Roman,serif\" font-size=\"14.00\">z</text>\n</g>\n<!-- beta&#45;&gt;z -->\n<g id=\"edge1\" class=\"edge\">\n<title>beta&#45;&gt;z</title>\n<path fill=\"none\" stroke=\"black\" d=\"M44,-209.35C44,-195.64 44,-176.17 44,-160.32\"/>\n<polygon fill=\"black\" stroke=\"black\" points=\"47.5,-160.04 44,-150.04 40.5,-160.04 47.5,-160.04\"/>\n</g>\n<!-- mu -->\n<g id=\"node2\" class=\"node\">\n<title>mu</title>\n<ellipse fill=\"white\" stroke=\"black\" cx=\"122\" cy=\"-132\" rx=\"27\" ry=\"18\"/>\n<text text-anchor=\"middle\" x=\"122\" y=\"-128.3\" font-family=\"Times New Roman,serif\" font-size=\"14.00\">mu</text>\n</g>\n<!-- obs -->\n<g id=\"node5\" class=\"node\">\n<title>obs</title>\n<ellipse fill=\"grey\" stroke=\"black\" cx=\"44\" cy=\"-57\" rx=\"27\" ry=\"18\"/>\n<text text-anchor=\"middle\" x=\"44\" y=\"-53.3\" font-family=\"Times New Roman,serif\" font-size=\"14.00\">obs</text>\n</g>\n<!-- mu&#45;&gt;obs -->\n<g id=\"edge2\" class=\"edge\">\n<title>mu&#45;&gt;obs</title>\n<path fill=\"none\" stroke=\"black\" d=\"M111.18,-115.22C103.91,-105.29 93.73,-92.59 83,-83 79.83,-80.17 76.3,-77.44 72.71,-74.89\"/>\n<polygon fill=\"black\" stroke=\"black\" points=\"74.58,-71.93 64.31,-69.31 70.71,-77.76 74.58,-71.93\"/>\n</g>\n<!-- sigma -->\n<g id=\"node3\" class=\"node\">\n<title>sigma</title>\n<ellipse fill=\"white\" stroke=\"black\" cx=\"205\" cy=\"-132\" rx=\"31.7\" ry=\"18\"/>\n<text text-anchor=\"middle\" x=\"205\" y=\"-128.3\" font-family=\"Times New Roman,serif\" font-size=\"14.00\">sigma</text>\n</g>\n<!-- sigma&#45;&gt;obs -->\n<g id=\"edge4\" class=\"edge\">\n<title>sigma&#45;&gt;obs</title>\n<path fill=\"none\" stroke=\"black\" d=\"M194.2,-114.74C186.27,-104.09 174.54,-90.75 161,-83 136.66,-69.07 105.45,-62.88 81.38,-60.14\"/>\n<polygon fill=\"black\" stroke=\"black\" points=\"81.51,-56.64 71.22,-59.14 80.82,-63.6 81.51,-56.64\"/>\n</g>\n<!-- z&#45;&gt;obs -->\n<g id=\"edge3\" class=\"edge\">\n<title>z&#45;&gt;obs</title>\n<path fill=\"none\" stroke=\"black\" d=\"M44,-113.7C44,-105.25 44,-94.87 44,-85.37\"/>\n<polygon fill=\"black\" stroke=\"black\" points=\"47.5,-85.18 44,-75.18 40.5,-85.18 47.5,-85.18\"/>\n</g>\n<!-- distribution_description_node -->\n<g id=\"node6\" class=\"node\">\n<title>distribution_description_node</title>\n<text text-anchor=\"start\" x=\"98.5\" y=\"-253.8\" font-family=\"Times New Roman,serif\" font-size=\"14.00\">beta ~ Beta</text>\n<text text-anchor=\"start\" x=\"98.5\" y=\"-238.8\" font-family=\"Times New Roman,serif\" font-size=\"14.00\">mu ~ Normal</text>\n<text text-anchor=\"start\" x=\"98.5\" y=\"-223.8\" font-family=\"Times New Roman,serif\" font-size=\"14.00\">sigma ~ Normal</text>\n<text text-anchor=\"start\" x=\"98.5\" y=\"-208.8\" font-family=\"Times New Roman,serif\" font-size=\"14.00\">z ~ Categorical</text>\n<text text-anchor=\"start\" x=\"98.5\" y=\"-193.8\" font-family=\"Times New Roman,serif\" font-size=\"14.00\">obs ~ Normal</text>\n</g>\n</g>\n</svg>\n",
      "text/plain": [
       "<graphviz.graphs.Digraph at 0x281d388d670>"
      ]
     },
     "execution_count": 405,
     "metadata": {},
     "output_type": "execute_result"
    }
   ],
   "source": [
    "T = 6\n",
    "N = 400\n",
    "alpha = 0.05\n",
    "pyro.render_model(model, model_args=(data,), render_distributions=True)"
   ]
  },
  {
   "cell_type": "code",
   "execution_count": 432,
   "metadata": {},
   "outputs": [
    {
     "name": "stderr",
     "output_type": "stream",
     "text": [
      "Sample: 100%|██████████| 1000/1000 [10:34,  1.58it/s, step size=9.22e-02, acc. prob=0.726]"
     ]
    },
    {
     "name": "stdout",
     "output_type": "stream",
     "text": [
      "\n",
      "                mean       std    median      5.0%     95.0%     n_eff     r_hat\n",
      "   beta[0]      0.22      0.06      0.24      0.13      0.30     11.92      1.01\n",
      "   beta[1]      0.33      0.29      0.47      0.00      0.66      4.17      1.25\n",
      "   beta[2]      0.42      0.25      0.45      0.01      0.70      4.81      1.25\n",
      "   beta[3]      0.99      0.03      1.00      0.96      1.00     66.76      1.00\n",
      "   beta[4]      0.91      0.18      1.00      0.68      1.00    379.65      1.00\n",
      "     mu[0]      8.26      0.25      8.21      7.94      8.68     15.56      1.05\n",
      "     mu[1]     -1.47      3.54      0.96     -7.42      1.27      4.49      1.31\n",
      "     mu[2]      3.06      3.85      1.13      0.94      8.86      9.07      1.00\n",
      "     mu[3]     20.02      0.06     20.02     19.93     20.11    188.42      1.02\n",
      "     mu[4]      0.14      4.78      0.28     -9.05      7.24    375.66      1.00\n",
      "     mu[5]      0.24      4.89      0.45     -7.75      8.35    334.64      1.00\n",
      "  sigma[0]      0.84      0.15      0.89      0.60      1.00      9.51      1.05\n",
      "  sigma[1]      0.62      0.19      0.69      0.22      0.84     19.48      1.10\n",
      "  sigma[2]      0.68      0.19      0.71      0.40      0.99     98.62      1.02\n",
      "  sigma[3]      0.52      0.03      0.52      0.47      0.58    405.91      1.00\n",
      "  sigma[4]      0.50      0.28      0.48      0.11      0.96    361.11      1.01\n",
      "  sigma[5]      0.51      0.28      0.51      0.10      0.99    414.89      1.00\n",
      "\n",
      "Number of divergences: 3\n"
     ]
    },
    {
     "name": "stderr",
     "output_type": "stream",
     "text": [
      "\n"
     ]
    }
   ],
   "source": [
    "data = torch.reshape(torch.tensor(data), (-1,))\n",
    "\n",
    "pyro.clear_param_store()\n",
    "nuts_kernel = NUTS(model)\n",
    "mcmc = MCMC(nuts_kernel, warmup_steps=500, num_samples=500, num_chains=1)\n",
    "mcmc.run(data=data)\n",
    "mcmc.summary()"
   ]
  },
  {
   "cell_type": "code",
   "execution_count": 433,
   "metadata": {},
   "outputs": [],
   "source": [
    "mcmc_samples = mcmc.get_samples(group_by_chain=True)\n",
    "\n",
    "beta = mcmc_samples['beta'][0]\n",
    "mu = mcmc_samples['mu'][0]\n",
    "sigma = mcmc_samples['sigma'][0]"
   ]
  },
  {
   "cell_type": "code",
   "execution_count": 434,
   "metadata": {},
   "outputs": [
    {
     "name": "stdout",
     "output_type": "stream",
     "text": [
      "torch.Size([1, 500, 6])\n"
     ]
    },
    {
     "data": {
      "text/plain": [
       "<AxesSubplot:ylabel='Density'>"
      ]
     },
     "execution_count": 434,
     "metadata": {},
     "output_type": "execute_result"
    },
    {
     "data": {
      "image/png": "[encoded data removed]",
      "text/plain": [
       "<Figure size 432x288 with 1 Axes>"
      ]
     },
     "metadata": {
      "needs_background": "light"
     },
     "output_type": "display_data"
    }
   ],
   "source": [
    "import seaborn as sns\n",
    "\n",
    "print(mcmc_samples['mu'].shape)\n",
    "sns.distplot(mcmc_samples[\"mu\"])"
   ]
  },
  {
   "cell_type": "code",
   "execution_count": 435,
   "metadata": {},
   "outputs": [],
   "source": [
    "# d =  torch.tensor(data, dtype=torch.float)\n",
    "# samples = mcmc.get_samples()\n",
    "\n",
    "# for k, v in samples.items():\n",
    "#     print(f\"{k}: {tuple(v.shape)}\")\n",
    "\n",
    "# predictive = Predictive(model, samples)(d)"
   ]
  },
  {
   "cell_type": "code",
   "execution_count": null,
   "metadata": {},
   "outputs": [],
   "source": [
    "print(beta[0])\n",
    "print(mix_weights(beta[0]))\n",
    "Categorical(mix_weights(beta[0])).sample([1])"
   ]
  },
  {
   "cell_type": "code",
   "execution_count": 436,
   "metadata": {},
   "outputs": [],
   "source": [
    "def predict(i,beta,mu):\n",
    "\n",
    "    z = pyro.sample(\"z\", Categorical(mix_weights(beta)))#torch.ones(T)*1/T)) \n",
    "    pyro.sample(\"obs\", Normal(mu[z], sigma[z]), obs=i)\n",
    "    \n",
    "    return z"
   ]
  },
  {
   "cell_type": "code",
   "execution_count": 438,
   "metadata": {},
   "outputs": [
    {
     "name": "stdout",
     "output_type": "stream",
     "text": [
      "400\n"
     ]
    }
   ],
   "source": [
    "x =[]\n",
    "clusts = []\n",
    "for i in data:\n",
    "    for b, m in zip(beta,mu):\n",
    "        x.append(predict(i,b,m))\n",
    "    clusts.append(torch.mode(torch.tensor(x)).values)\n",
    "\n",
    "print(len(clusts))\n",
    "    "
   ]
  },
  {
   "cell_type": "code",
   "execution_count": 439,
   "metadata": {},
   "outputs": [
    {
     "data": {
      "text/plain": [
       "<matplotlib.image.AxesImage at 0x2818e5eb520>"
      ]
     },
     "execution_count": 439,
     "metadata": {},
     "output_type": "execute_result"
    },
    {
     "data": {
      "image/png": "[encoded data removed]",
      "text/plain": [
       "<Figure size 432x288 with 1 Axes>"
      ]
     },
     "metadata": {
      "needs_background": "light"
     },
     "output_type": "display_data"
    }
   ],
   "source": [
    "plt.imshow(np.reshape(clusts, (20,20)))\n"
   ]
  }
 ],
 "metadata": {
  "interpreter": {
   "hash": "1d4df73e08e394aceedb93fd289f1fdb03087f2b8b3b3a9e1d14c5267e8bf280"
  },
  "kernelspec": {
   "display_name": "Python 3.9.5 ('deep-learn')",
   "language": "python",
   "name": "python3"
  },
  "language_info": {
   "codemirror_mode": {
    "name": "ipython",
    "version": 3
   },
   "file_extension": ".py",
   "mimetype": "text/x-python",
   "name": "python",
   "nbconvert_exporter": "python",
   "pygments_lexer": "ipython3",
   "version": "3.9.5"
  },
  "orig_nbformat": 4
 },
 "nbformat": 4,
 "nbformat_minor": 2
}

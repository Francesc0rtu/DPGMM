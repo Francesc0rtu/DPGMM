{
 "cells": [
  {
   "cell_type": "markdown",
   "metadata": {},
   "source": [
    "## Image Segmentation using DPMM\n",
    "\n",
    "Application of DPMM to Image Segmentation, here we used MCMC to approximate posterior."
   ]
  },
  {
   "cell_type": "code",
   "execution_count": 1,
   "metadata": {},
   "outputs": [],
   "source": [
    "import matplotlib.pyplot as plt\n",
    "import numpy as np\n",
    "import pandas as pd\n",
    "from tqdm import tqdm\n",
    "\n",
    "import torch\n",
    "import torch.nn.functional as F\n",
    "from torch.distributions import constraints\n",
    "\n",
    "import pyro\n",
    "import pyro.distributions as dist\n",
    "from pyro.distributions import *\n",
    "from pyro.infer import Predictive, SVI, Trace_ELBO\n",
    "from pyro.infer.mcmc import MCMC, HMC, NUTS, mcmc_kernel\n",
    "\n",
    "from pyro.optim import Adam\n",
    "import numpy as np\n",
    "from scipy import ndimage\n",
    "import matplotlib.pyplot as plt\n",
    "from sklearn.mixture import GaussianMixture\n",
    "import warnings\n",
    "warnings.filterwarnings('ignore')\n",
    "\n",
    "assert pyro.__version__.startswith('1.8.1')\n",
    "pyro.set_rng_seed(0)"
   ]
  },
  {
   "cell_type": "code",
   "execution_count": 2,
   "metadata": {},
   "outputs": [],
   "source": [
    "def mix_weights(beta):\n",
    "    beta1m_cumprod = (1 - beta).cumprod(-1)\n",
    "    return F.pad(beta, (0, 1), value=1) * F.pad(beta1m_cumprod, (1, 0), value=1)"
   ]
  },
  {
   "cell_type": "code",
   "execution_count": 3,
   "metadata": {},
   "outputs": [
    {
     "data": {
      "text/plain": [
       "[<matplotlib.lines.Line2D at 0x1c4d0986a90>]"
      ]
     },
     "execution_count": 3,
     "metadata": {},
     "output_type": "execute_result"
    },
    {
     "data": {
      "image/png": "[encoded data removed]",
      "text/plain": [
       "<Figure size 432x288 with 1 Axes>"
      ]
     },
     "metadata": {
      "needs_background": "light"
     },
     "output_type": "display_data"
    }
   ],
   "source": [
    "data = torch.cat((Normal(20, .5).sample([100]),\n",
    "                  Normal(8, 1.).sample([100]),\n",
    "                  Normal(1.5, .5).sample([100]),\n",
    "                  Normal(0.5, .5).sample([100])))\n",
    "\n",
    "hist, bin_edges = np.histogram(data, bins=60)\n",
    "bin_centers = 0.5*(bin_edges[:-1] + bin_edges[1:])\n",
    "plt.plot(bin_centers, hist, lw=2)\n"
   ]
  },
  {
   "cell_type": "code",
   "execution_count": 4,
   "metadata": {},
   "outputs": [
    {
     "data": {
      "text/plain": [
       "<matplotlib.image.AxesImage at 0x1c4d0a7d700>"
      ]
     },
     "execution_count": 4,
     "metadata": {},
     "output_type": "execute_result"
    },
    {
     "data": {
      "image/png": "[encoded data removed]",
      "text/plain": [
       "<Figure size 432x288 with 1 Axes>"
      ]
     },
     "metadata": {
      "needs_background": "light"
     },
     "output_type": "display_data"
    }
   ],
   "source": [
    "import random\n",
    "plt.imshow(np.reshape(data, (20,20)))\n"
   ]
  },
  {
   "cell_type": "code",
   "execution_count": 6,
   "metadata": {},
   "outputs": [],
   "source": [
    "def model(data):\n",
    "    with pyro.plate(\"beta_plate\", T-1):\n",
    "        beta = pyro.sample(\"beta\", Beta(1, alpha))\n",
    "\n",
    "    with pyro.plate(\"mu_plate\", T):\n",
    "        mu = pyro.sample(\"mu\", Normal(0., 5.))\n",
    "\n",
    "    with pyro.plate(\"data\", N):\n",
    "        z = pyro.sample(\"z\", Categorical(mix_weights(beta))) \n",
    "        pyro.sample(\"obs\", Normal(mu[z], 1.), obs=data)\n",
    "\n",
    "    return beta,mu,z"
   ]
  },
  {
   "cell_type": "code",
   "execution_count": 7,
   "metadata": {},
   "outputs": [
    {
     "data": {
      "image/svg+xml": "<?xml version=\"1.0\" encoding=\"UTF-8\" standalone=\"no\"?>\n<!DOCTYPE svg PUBLIC \"-//W3C//DTD SVG 1.1//EN\"\n \"http://www.w3.org/Graphics/SVG/1.1/DTD/svg11.dtd\">\n<!-- Generated by graphviz version 3.0.0 (20220226.1711)\n -->\n<!-- Pages: 1 -->\n<svg width=\"200pt\" height=\"262pt\"\n viewBox=\"0.00 0.00 199.50 262.00\" xmlns=\"http://www.w3.org/2000/svg\" xmlns:xlink=\"http://www.w3.org/1999/xlink\">\n<g id=\"graph0\" class=\"graph\" transform=\"scale(1 1) rotate(0) translate(4 258)\">\n<polygon fill=\"white\" stroke=\"transparent\" points=\"-4,4 -4,-258 195.5,-258 195.5,4 -4,4\"/>\n<g id=\"clust1\" class=\"cluster\">\n<title>cluster_beta_plate</title>\n<polygon fill=\"none\" stroke=\"black\" points=\"8,-171 8,-246 82,-246 82,-171 8,-171\"/>\n<text text-anchor=\"middle\" x=\"45\" y=\"-178.8\" font-family=\"Times New Roman,serif\" font-size=\"14.00\">beta_plate</text>\n</g>\n<g id=\"clust2\" class=\"cluster\">\n<title>cluster_mu_plate</title>\n<polygon fill=\"none\" stroke=\"black\" points=\"87,-83 87,-158 157,-158 157,-83 87,-83\"/>\n<text text-anchor=\"middle\" x=\"123\" y=\"-90.8\" font-family=\"Times New Roman,serif\" font-size=\"14.00\">mu_plate</text>\n</g>\n<g id=\"clust3\" class=\"cluster\">\n<title>cluster_data</title>\n<polygon fill=\"none\" stroke=\"black\" points=\"9,-8 9,-158 79,-158 79,-8 9,-8\"/>\n<text text-anchor=\"middle\" x=\"59\" y=\"-15.8\" font-family=\"Times New Roman,serif\" font-size=\"14.00\">data</text>\n</g>\n<!-- beta -->\n<g id=\"node1\" class=\"node\">\n<title>beta</title>\n<ellipse fill=\"white\" stroke=\"black\" cx=\"44\" cy=\"-220\" rx=\"27\" ry=\"18\"/>\n<text text-anchor=\"middle\" x=\"44\" y=\"-216.3\" font-family=\"Times New Roman,serif\" font-size=\"14.00\">beta</text>\n</g>\n<!-- z -->\n<g id=\"node3\" class=\"node\">\n<title>z</title>\n<ellipse fill=\"white\" stroke=\"black\" cx=\"44\" cy=\"-132\" rx=\"27\" ry=\"18\"/>\n<text text-anchor=\"middle\" x=\"44\" y=\"-128.3\" font-family=\"Times New Roman,serif\" font-size=\"14.00\">z</text>\n</g>\n<!-- beta&#45;&gt;z -->\n<g id=\"edge1\" class=\"edge\">\n<title>beta&#45;&gt;z</title>\n<path fill=\"none\" stroke=\"black\" d=\"M44,-201.6C44,-189.75 44,-173.82 44,-160.29\"/>\n<polygon fill=\"black\" stroke=\"black\" points=\"47.5,-160.08 44,-150.08 40.5,-160.08 47.5,-160.08\"/>\n</g>\n<!-- mu -->\n<g id=\"node2\" class=\"node\">\n<title>mu</title>\n<ellipse fill=\"white\" stroke=\"black\" cx=\"122\" cy=\"-132\" rx=\"27\" ry=\"18\"/>\n<text text-anchor=\"middle\" x=\"122\" y=\"-128.3\" font-family=\"Times New Roman,serif\" font-size=\"14.00\">mu</text>\n</g>\n<!-- obs -->\n<g id=\"node4\" class=\"node\">\n<title>obs</title>\n<ellipse fill=\"grey\" stroke=\"black\" cx=\"44\" cy=\"-57\" rx=\"27\" ry=\"18\"/>\n<text text-anchor=\"middle\" x=\"44\" y=\"-53.3\" font-family=\"Times New Roman,serif\" font-size=\"14.00\">obs</text>\n</g>\n<!-- mu&#45;&gt;obs -->\n<g id=\"edge3\" class=\"edge\">\n<title>mu&#45;&gt;obs</title>\n<path fill=\"none\" stroke=\"black\" d=\"M111.18,-115.22C103.91,-105.29 93.73,-92.59 83,-83 79.83,-80.17 76.3,-77.44 72.71,-74.89\"/>\n<polygon fill=\"black\" stroke=\"black\" points=\"74.58,-71.93 64.31,-69.31 70.71,-77.76 74.58,-71.93\"/>\n</g>\n<!-- z&#45;&gt;obs -->\n<g id=\"edge2\" class=\"edge\">\n<title>z&#45;&gt;obs</title>\n<path fill=\"none\" stroke=\"black\" d=\"M44,-113.7C44,-105.25 44,-94.87 44,-85.37\"/>\n<polygon fill=\"black\" stroke=\"black\" points=\"47.5,-85.18 44,-75.18 40.5,-85.18 47.5,-85.18\"/>\n</g>\n<!-- distribution_description_node -->\n<g id=\"node5\" class=\"node\">\n<title>distribution_description_node</title>\n<text text-anchor=\"start\" x=\"98.5\" y=\"-238.8\" font-family=\"Times New Roman,serif\" font-size=\"14.00\">beta ~ Beta</text>\n<text text-anchor=\"start\" x=\"98.5\" y=\"-223.8\" font-family=\"Times New Roman,serif\" font-size=\"14.00\">mu ~ Normal</text>\n<text text-anchor=\"start\" x=\"98.5\" y=\"-208.8\" font-family=\"Times New Roman,serif\" font-size=\"14.00\">z ~ Categorical</text>\n<text text-anchor=\"start\" x=\"98.5\" y=\"-193.8\" font-family=\"Times New Roman,serif\" font-size=\"14.00\">obs ~ Normal</text>\n</g>\n</g>\n</svg>\n",
      "text/plain": [
       "<graphviz.graphs.Digraph at 0x1c4d0a90f40>"
      ]
     },
     "execution_count": 7,
     "metadata": {},
     "output_type": "execute_result"
    }
   ],
   "source": [
    "T = 6\n",
    "N = 400\n",
    "alpha = 0.05\n",
    "pyro.render_model(model, model_args=(data,), render_distributions=True)"
   ]
  },
  {
   "cell_type": "code",
   "execution_count": 9,
   "metadata": {},
   "outputs": [
    {
     "name": "stderr",
     "output_type": "stream",
     "text": [
      "Sample: 100%|██████████| 400/400 [03:34,  1.87it/s, step size=1.06e-01, acc. prob=0.840]"
     ]
    },
    {
     "name": "stdout",
     "output_type": "stream",
     "text": [
      "\n",
      "                mean       std    median      5.0%     95.0%     n_eff     r_hat\n",
      "   beta[0]      0.29      0.17      0.29      0.04      0.51     10.81      1.00\n",
      "   beta[1]      0.26      0.18      0.29      0.00      0.48     10.23      1.01\n",
      "   beta[2]      0.50      0.03      0.50      0.45      0.56    110.46      0.99\n",
      "   beta[3]      1.00      0.01      1.00      0.99      1.00     92.45      0.99\n",
      "   beta[4]      0.94      0.14      1.00      0.72      1.00     82.99      1.01\n",
      "     mu[0]      1.06      0.18      1.05      0.73      1.34     26.22      0.99\n",
      "     mu[1]      1.31      0.74      1.10      0.57      2.25     14.73      1.06\n",
      "     mu[2]      8.16      0.10      8.16      7.97      8.29     68.02      1.04\n",
      "     mu[3]     20.01      0.12     20.02     19.75     20.17     75.64      0.99\n",
      "     mu[4]      0.52      5.11      0.77     -6.73      9.68     66.79      0.99\n",
      "     mu[5]      0.53      4.76      0.92     -7.57      7.36     94.90      1.01\n",
      "\n",
      "Number of divergences: 0\n"
     ]
    },
    {
     "name": "stderr",
     "output_type": "stream",
     "text": [
      "\n"
     ]
    }
   ],
   "source": [
    "data = torch.reshape(torch.tensor(data), (-1,))\n",
    "\n",
    "pyro.clear_param_store()\n",
    "nuts_kernel = NUTS(model)\n",
    "mcmc = MCMC(nuts_kernel, warmup_steps=300, num_samples=100, num_chains=1)\n",
    "mcmc.run(data=data)\n",
    "mcmc.summary()"
   ]
  },
  {
   "cell_type": "code",
   "execution_count": 10,
   "metadata": {},
   "outputs": [],
   "source": [
    "mcmc_samples = mcmc.get_samples(group_by_chain=True)\n",
    "\n",
    "beta = mcmc_samples['beta'][0]\n",
    "mu = mcmc_samples['mu'][0]"
   ]
  },
  {
   "cell_type": "code",
   "execution_count": 11,
   "metadata": {},
   "outputs": [
    {
     "name": "stdout",
     "output_type": "stream",
     "text": [
      "torch.Size([1, 100, 6])\n"
     ]
    },
    {
     "data": {
      "text/plain": [
       "<AxesSubplot:ylabel='Density'>"
      ]
     },
     "execution_count": 11,
     "metadata": {},
     "output_type": "execute_result"
    },
    {
     "data": {
      "image/png": "[encoded data removed]",
      "text/plain": [
       "<Figure size 432x288 with 1 Axes>"
      ]
     },
     "metadata": {
      "needs_background": "light"
     },
     "output_type": "display_data"
    }
   ],
   "source": [
    "import seaborn as sns\n",
    "\n",
    "print(mcmc_samples['mu'].shape)\n",
    "sns.distplot(mcmc_samples[\"mu\"])"
   ]
  },
  {
   "cell_type": "code",
   "execution_count": 13,
   "metadata": {},
   "outputs": [],
   "source": [
    "from scipy.stats import norm \n",
    "\n",
    "mu = mu[-10:]\n",
    "beta = beta[-10:]\n",
    "\n",
    "n_samples = mu.shape[0]\n",
    "n = data.shape[0]\n",
    "cluster = np.zeros(n)\n",
    "\n",
    "for i in range(n):\n",
    "    q = torch.zeros(T)\n",
    "    for j in range(T):\n",
    "        for k in range(n_samples):\n",
    "            q[j] = norm.pdf(data[i], mu[k,j], 1.) + q[j]\n",
    "\n",
    "    cluster[i] = np.argmax(q)"
   ]
  },
  {
   "cell_type": "markdown",
   "metadata": {},
   "source": [
    "Assign clusters:"
   ]
  },
  {
   "cell_type": "code",
   "execution_count": 15,
   "metadata": {},
   "outputs": [],
   "source": [
    "from scipy.stats import norm \n",
    "\n",
    "w = mix_weights(beta)[-1]\n",
    "n_samples = mu.shape[0]\n",
    "n = data.shape[0]\n",
    "cluster = np.zeros(n)\n",
    "\n",
    "for i in range(n):\n",
    "    q = torch.zeros(T)\n",
    "    for j in range(T):\n",
    "        q[j] = w[j]*norm.pdf(data[i], mu[-1][j], 1.) + q[j]\n",
    "\n",
    "    cluster[i] = np.argmax(q)"
   ]
  },
  {
   "cell_type": "code",
   "execution_count": 29,
   "metadata": {},
   "outputs": [
    {
     "data": {
      "text/plain": [
       "<matplotlib.image.AxesImage at 0x2078a492490>"
      ]
     },
     "execution_count": 29,
     "metadata": {},
     "output_type": "execute_result"
    },
    {
     "data": {
      "image/png": "[encoded data removed]",
      "text/plain": [
       "<Figure size 432x288 with 1 Axes>"
      ]
     },
     "metadata": {
      "needs_background": "light"
     },
     "output_type": "display_data"
    }
   ],
   "source": [
    "plt.imshow( np.reshape(cluster, (20,20)))\n"
   ]
  }
 ],
 "metadata": {
  "interpreter": {
   "hash": "1d4df73e08e394aceedb93fd289f1fdb03087f2b8b3b3a9e1d14c5267e8bf280"
  },
  "kernelspec": {
   "display_name": "Python 3.9.5 ('deep-learn')",
   "language": "python",
   "name": "python3"
  },
  "language_info": {
   "codemirror_mode": {
    "name": "ipython",
    "version": 3
   },
   "file_extension": ".py",
   "mimetype": "text/x-python",
   "name": "python",
   "nbconvert_exporter": "python",
   "pygments_lexer": "ipython3",
   "version": "3.9.5"
  },
  "orig_nbformat": 4
 },
 "nbformat": 4,
 "nbformat_minor": 2
}

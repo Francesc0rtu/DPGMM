{
 "cells": [
  {
   "cell_type": "code",
   "execution_count": 23,
   "metadata": {},
   "outputs": [],
   "source": [
    "import matplotlib.pyplot as plt\n",
    "import numpy as np\n",
    "import pandas as pd\n",
    "from tqdm import tqdm\n",
    "\n",
    "import torch\n",
    "import torch.nn.functional as F\n",
    "from torch.distributions import constraints\n",
    "\n",
    "import pyro\n",
    "import pyro.distributions as dist\n",
    "from pyro.distributions import *\n",
    "from pyro.infer import Predictive, SVI, Trace_ELBO\n",
    "from pyro.infer.mcmc import MCMC, HMC, NUTS, mcmc_kernel\n",
    "\n",
    "from pyro.optim import Adam\n",
    "import numpy as np\n",
    "import matplotlib.pyplot as plt\n",
    "\n",
    "import pickle\n",
    "\n",
    "import warnings\n",
    "warnings.filterwarnings('ignore')\n",
    "\n",
    "assert pyro.__version__.startswith('1.8.1')\n",
    "pyro.set_rng_seed(0)"
   ]
  },
  {
   "cell_type": "code",
   "execution_count": 4,
   "metadata": {},
   "outputs": [],
   "source": [
    "def mix_weights(beta):\n",
    "    beta1m_cumprod = (1 - beta).cumprod(-1)\n",
    "    return F.pad(beta, (0, 1), value=1) * F.pad(beta1m_cumprod, (1, 0), value=1)"
   ]
  },
  {
   "cell_type": "code",
   "execution_count": 10,
   "metadata": {},
   "outputs": [
    {
     "data": {
      "text/plain": [
       "<matplotlib.image.AxesImage at 0x2b90d6a00d0>"
      ]
     },
     "execution_count": 10,
     "metadata": {},
     "output_type": "execute_result"
    },
    {
     "data": {
      "image/png": "[encoded data removed]",
      "text/plain": [
       "<Figure size 432x288 with 1 Axes>"
      ]
     },
     "metadata": {
      "needs_background": "light"
     },
     "output_type": "display_data"
    }
   ],
   "source": [
    "np.random.seed(1)\n",
    "n = 10\n",
    "l = 20\n",
    "im = np.zeros((l, l))  # im lxl\n",
    "points = l*np.random.random((3, n**2))\n",
    "\n",
    "im[(points[0]).astype(np.int), (points[1]).astype(np.int)] = 20 # random noise\n",
    "#plt.imshow(np.reshape(im, (256,256)))\n",
    "\n",
    "im = ndimage.gaussian_filter(im, sigma=l/(2.*n))\n",
    "plt.imshow(np.reshape(im, (l,l)))\n",
    "\n",
    "mask = (im > im.mean()).astype(np.float)\n",
    "img = mask*5 + 0.8*np.random.randn(*mask.shape)\n",
    "plt.imshow(np.reshape(img, (l,l)))\n",
    "\n"
   ]
  },
  {
   "cell_type": "code",
   "execution_count": 11,
   "metadata": {},
   "outputs": [
    {
     "data": {
      "text/plain": [
       "[<matplotlib.lines.Line2D at 0x2b90d6e6b20>]"
      ]
     },
     "execution_count": 11,
     "metadata": {},
     "output_type": "execute_result"
    },
    {
     "data": {
      "image/png": "[encoded data removed]",
      "text/plain": [
       "<Figure size 432x288 with 1 Axes>"
      ]
     },
     "metadata": {
      "needs_background": "light"
     },
     "output_type": "display_data"
    }
   ],
   "source": [
    "hist, bin_edges = np.histogram(img, bins=60)\n",
    "bin_centers = 0.5*(bin_edges[:-1] + bin_edges[1:])\n",
    "plt.plot(bin_centers, hist, lw=2)\n"
   ]
  },
  {
   "cell_type": "code",
   "execution_count": 12,
   "metadata": {},
   "outputs": [],
   "source": [
    "def model(data):\n",
    "    with pyro.plate(\"beta_plate\", T-1):\n",
    "        beta = pyro.sample(\"beta\", Beta(1, alpha))\n",
    "\n",
    "    with pyro.plate(\"mu_plate\", T):\n",
    "        mu = pyro.sample(\"mu\", Normal(0., 5.))\n",
    "\n",
    "    with pyro.plate(\"data\", N):\n",
    "        z = pyro.sample(\"z\", Categorical(mix_weights(beta))) \n",
    "        pyro.sample(\"obs\", Normal(mu[z], 1.), obs=data)\n",
    "\n",
    "    return beta,mu,z"
   ]
  },
  {
   "cell_type": "code",
   "execution_count": null,
   "metadata": {},
   "outputs": [
    {
     "data": {
      "image/svg+xml": "<?xml version=\"1.0\" encoding=\"UTF-8\" standalone=\"no\"?>\n<!DOCTYPE svg PUBLIC \"-//W3C//DTD SVG 1.1//EN\"\n \"http://www.w3.org/Graphics/SVG/1.1/DTD/svg11.dtd\">\n<!-- Generated by graphviz version 3.0.0 (20220226.1711)\n -->\n<!-- Pages: 1 -->\n<svg width=\"200pt\" height=\"262pt\"\n viewBox=\"0.00 0.00 199.50 262.00\" xmlns=\"http://www.w3.org/2000/svg\" xmlns:xlink=\"http://www.w3.org/1999/xlink\">\n<g id=\"graph0\" class=\"graph\" transform=\"scale(1 1) rotate(0) translate(4 258)\">\n<polygon fill=\"white\" stroke=\"transparent\" points=\"-4,4 -4,-258 195.5,-258 195.5,4 -4,4\"/>\n<g id=\"clust1\" class=\"cluster\">\n<title>cluster_beta_plate</title>\n<polygon fill=\"none\" stroke=\"black\" points=\"8,-171 8,-246 82,-246 82,-171 8,-171\"/>\n<text text-anchor=\"middle\" x=\"45\" y=\"-178.8\" font-family=\"Times New Roman,serif\" font-size=\"14.00\">beta_plate</text>\n</g>\n<g id=\"clust2\" class=\"cluster\">\n<title>cluster_mu_plate</title>\n<polygon fill=\"none\" stroke=\"black\" points=\"87,-83 87,-158 157,-158 157,-83 87,-83\"/>\n<text text-anchor=\"middle\" x=\"123\" y=\"-90.8\" font-family=\"Times New Roman,serif\" font-size=\"14.00\">mu_plate</text>\n</g>\n<g id=\"clust3\" class=\"cluster\">\n<title>cluster_data</title>\n<polygon fill=\"none\" stroke=\"black\" points=\"9,-8 9,-158 79,-158 79,-8 9,-8\"/>\n<text text-anchor=\"middle\" x=\"59\" y=\"-15.8\" font-family=\"Times New Roman,serif\" font-size=\"14.00\">data</text>\n</g>\n<!-- beta -->\n<g id=\"node1\" class=\"node\">\n<title>beta</title>\n<ellipse fill=\"white\" stroke=\"black\" cx=\"44\" cy=\"-220\" rx=\"27\" ry=\"18\"/>\n<text text-anchor=\"middle\" x=\"44\" y=\"-216.3\" font-family=\"Times New Roman,serif\" font-size=\"14.00\">beta</text>\n</g>\n<!-- z -->\n<g id=\"node3\" class=\"node\">\n<title>z</title>\n<ellipse fill=\"white\" stroke=\"black\" cx=\"44\" cy=\"-132\" rx=\"27\" ry=\"18\"/>\n<text text-anchor=\"middle\" x=\"44\" y=\"-128.3\" font-family=\"Times New Roman,serif\" font-size=\"14.00\">z</text>\n</g>\n<!-- beta&#45;&gt;z -->\n<g id=\"edge1\" class=\"edge\">\n<title>beta&#45;&gt;z</title>\n<path fill=\"none\" stroke=\"black\" d=\"M44,-201.6C44,-189.75 44,-173.82 44,-160.29\"/>\n<polygon fill=\"black\" stroke=\"black\" points=\"47.5,-160.08 44,-150.08 40.5,-160.08 47.5,-160.08\"/>\n</g>\n<!-- mu -->\n<g id=\"node2\" class=\"node\">\n<title>mu</title>\n<ellipse fill=\"white\" stroke=\"black\" cx=\"122\" cy=\"-132\" rx=\"27\" ry=\"18\"/>\n<text text-anchor=\"middle\" x=\"122\" y=\"-128.3\" font-family=\"Times New Roman,serif\" font-size=\"14.00\">mu</text>\n</g>\n<!-- obs -->\n<g id=\"node4\" class=\"node\">\n<title>obs</title>\n<ellipse fill=\"grey\" stroke=\"black\" cx=\"44\" cy=\"-57\" rx=\"27\" ry=\"18\"/>\n<text text-anchor=\"middle\" x=\"44\" y=\"-53.3\" font-family=\"Times New Roman,serif\" font-size=\"14.00\">obs</text>\n</g>\n<!-- mu&#45;&gt;obs -->\n<g id=\"edge2\" class=\"edge\">\n<title>mu&#45;&gt;obs</title>\n<path fill=\"none\" stroke=\"black\" d=\"M111.18,-115.22C103.91,-105.29 93.73,-92.59 83,-83 79.83,-80.17 76.3,-77.44 72.71,-74.89\"/>\n<polygon fill=\"black\" stroke=\"black\" points=\"74.58,-71.93 64.31,-69.31 70.71,-77.76 74.58,-71.93\"/>\n</g>\n<!-- z&#45;&gt;obs -->\n<g id=\"edge3\" class=\"edge\">\n<title>z&#45;&gt;obs</title>\n<path fill=\"none\" stroke=\"black\" d=\"M44,-113.7C44,-105.25 44,-94.87 44,-85.37\"/>\n<polygon fill=\"black\" stroke=\"black\" points=\"47.5,-85.18 44,-75.18 40.5,-85.18 47.5,-85.18\"/>\n</g>\n<!-- distribution_description_node -->\n<g id=\"node5\" class=\"node\">\n<title>distribution_description_node</title>\n<text text-anchor=\"start\" x=\"98.5\" y=\"-238.8\" font-family=\"Times New Roman,serif\" font-size=\"14.00\">beta ~ Beta</text>\n<text text-anchor=\"start\" x=\"98.5\" y=\"-223.8\" font-family=\"Times New Roman,serif\" font-size=\"14.00\">mu ~ Normal</text>\n<text text-anchor=\"start\" x=\"98.5\" y=\"-208.8\" font-family=\"Times New Roman,serif\" font-size=\"14.00\">z ~ Categorical</text>\n<text text-anchor=\"start\" x=\"98.5\" y=\"-193.8\" font-family=\"Times New Roman,serif\" font-size=\"14.00\">obs ~ Normal</text>\n</g>\n</g>\n</svg>\n",
      "text/plain": [
       "<graphviz.graphs.Digraph at 0x2b90b460f10>"
      ]
     },
     "execution_count": 13,
     "metadata": {},
     "output_type": "execute_result"
    },
    {
     "name": "stderr",
     "output_type": "stream",
     "text": [
      "Warmup:   2%|▏         | 12/700 [00:20,  6.30it/s, step size=4.17e-02, acc. prob=0.710]"
     ]
    }
   ],
   "source": [
    "T = 6\n",
    "N = 400\n",
    "alpha = 0.05\n",
    "\n",
    "data = torch.reshape(torch.tensor(img), (-1,)).float()\n",
    "N = data.shape[0]\n",
    "pyro.render_model(model, model_args=(data,), render_distributions=True)"
   ]
  },
  {
   "cell_type": "markdown",
   "metadata": {},
   "source": [
    "### DO NOT run again if not needed!\n",
    "Load dictionary containing results instead"
   ]
  },
  {
   "cell_type": "code",
   "execution_count": 14,
   "metadata": {},
   "outputs": [
    {
     "name": "stderr",
     "output_type": "stream",
     "text": [
      "Sample: 100%|██████████| 700/700 [04:00,  2.91it/s, step size=1.78e-01, acc. prob=0.840]\n"
     ]
    },
    {
     "name": "stdout",
     "output_type": "stream",
     "text": [
      "\n",
      "                mean       std    median      5.0%     95.0%     n_eff     r_hat\n",
      "   beta[0]      0.55      0.02      0.55      0.51      0.58    273.94      0.99\n",
      "   beta[1]      1.00      0.01      1.00      1.00      1.00    134.20      1.00\n",
      "   beta[2]      0.95      0.14      1.00      0.82      1.00    213.99      0.99\n",
      "   beta[3]      0.91      0.22      1.00      0.64      1.00    139.18      1.00\n",
      "   beta[4]      0.90      0.22      1.00      0.61      1.00    185.55      1.00\n",
      "     mu[0]     -0.01      0.06     -0.01     -0.10      0.11    191.71      1.00\n",
      "     mu[1]      5.08      0.08      5.08      4.96      5.20    118.03      1.00\n",
      "     mu[2]      0.70      5.36      0.65     -6.81     10.74    132.91      1.00\n",
      "     mu[3]     -0.79      5.41     -0.51     -9.34      8.23    171.67      1.00\n",
      "     mu[4]      0.49      5.54     -0.11     -9.29      8.59    138.56      1.00\n",
      "     mu[5]      0.08      4.78      0.35     -8.36      7.27    156.54      1.00\n",
      "\n",
      "Number of divergences: 0\n"
     ]
    }
   ],
   "source": [
    "# pyro.clear_param_store()\n",
    "# nuts_kernel = NUTS(model)\n",
    "# mcmc = MCMC(nuts_kernel, warmup_steps=500, num_samples=200, num_chains=1)\n",
    "# mcmc.run(data=data)\n",
    "# mcmc.summary()"
   ]
  },
  {
   "cell_type": "code",
   "execution_count": 22,
   "metadata": {},
   "outputs": [],
   "source": [
    "mcmc_samples = mcmc.get_samples(group_by_chain=True)\n",
    "\n",
    "beta = mcmc_samples['beta'][0]\n",
    "mu = mcmc_samples['mu'][0]\n",
    "#sigma = mcmc_samples['sigma'][0]"
   ]
  },
  {
   "cell_type": "code",
   "execution_count": 28,
   "metadata": {},
   "outputs": [
    {
     "name": "stdout",
     "output_type": "stream",
     "text": [
      "{'beta': tensor([[[0.5573, 1.0000, 1.0000, 0.9780, 1.0000],\n",
      "         [0.5567, 0.9824, 0.9524, 0.9785, 0.9436],\n",
      "         [0.5269, 0.9985, 0.9999, 0.5833, 0.9954],\n",
      "         [0.5600, 0.9993, 0.6038, 0.9966, 0.9636],\n",
      "         [0.5126, 0.9969, 0.9864, 0.2301, 0.6660],\n",
      "         [0.5642, 1.0000, 0.9979, 1.0000, 0.9993],\n",
      "         [0.5740, 0.9743, 1.0000, 0.9998, 0.8933],\n",
      "         [0.5372, 1.0000, 1.0000, 0.9999, 0.9493],\n",
      "         [0.5551, 0.9763, 0.9993, 1.0000, 1.0000],\n",
      "         [0.5378, 0.9915, 0.9991, 0.9995, 1.0000],\n",
      "         [0.5469, 1.0000, 0.9315, 0.9922, 1.0000],\n",
      "         [0.5503, 1.0000, 0.9887, 0.9982, 1.0000],\n",
      "         [0.5157, 1.0000, 0.9906, 0.9894, 0.9986],\n",
      "         [0.5922, 1.0000, 0.9497, 1.0000, 1.0000],\n",
      "         [0.5737, 0.9998, 0.9425, 0.9999, 0.9999],\n",
      "         [0.5015, 0.9999, 0.9970, 1.0000, 0.9999],\n",
      "         [0.5006, 1.0000, 0.9979, 1.0000, 0.9998],\n",
      "         [0.5231, 1.0000, 0.9906, 1.0000, 1.0000],\n",
      "         [0.5237, 0.9840, 0.9965, 1.0000, 0.9998],\n",
      "         [0.5611, 1.0000, 0.9813, 1.0000, 1.0000],\n",
      "         [0.5460, 0.9988, 0.9999, 0.9903, 0.9594],\n",
      "         [0.5336, 0.9993, 0.3583, 0.9964, 0.9902],\n",
      "         [0.5658, 0.9993, 0.9228, 0.6363, 0.9992],\n",
      "         [0.5269, 0.9993, 0.9683, 0.9996, 0.9999],\n",
      "         [0.5578, 0.9967, 1.0000, 0.2817, 0.9966],\n",
      "         [0.5478, 0.9984, 0.9999, 0.9961, 0.9956],\n",
      "         [0.5500, 1.0000, 0.5101, 0.9996, 1.0000],\n",
      "         [0.5282, 0.9960, 0.9999, 0.9945, 0.7112],\n",
      "         [0.5372, 0.9914, 0.9997, 0.9990, 0.9150],\n",
      "         [0.5308, 1.0000, 1.0000, 1.0000, 0.9985],\n",
      "         [0.5082, 1.0000, 0.9928, 0.9971, 0.6671],\n",
      "         [0.5910, 1.0000, 0.9557, 0.4929, 0.9814],\n",
      "         [0.5858, 1.0000, 0.9988, 0.0040, 0.9997],\n",
      "         [0.5838, 1.0000, 0.9986, 0.0146, 1.0000],\n",
      "         [0.5138, 0.9990, 0.9542, 0.9996, 0.9983],\n",
      "         [0.5621, 0.9999, 0.9877, 1.0000, 0.9981],\n",
      "         [0.5373, 0.9939, 1.0000, 0.2913, 1.0000],\n",
      "         [0.5348, 1.0000, 1.0000, 1.0000, 1.0000],\n",
      "         [0.5598, 0.9996, 1.0000, 0.8369, 0.4207],\n",
      "         [0.5364, 1.0000, 0.9982, 1.0000, 0.9987],\n",
      "         [0.5458, 1.0000, 0.9977, 0.3542, 1.0000],\n",
      "         [0.5515, 1.0000, 0.8451, 0.9997, 1.0000],\n",
      "         [0.5241, 1.0000, 0.9157, 0.9534, 0.9830],\n",
      "         [0.5937, 1.0000, 0.9977, 0.9958, 0.8615],\n",
      "         [0.5026, 0.9998, 0.9778, 0.9254, 0.9984],\n",
      "         [0.5552, 1.0000, 0.4001, 0.9097, 0.1984],\n",
      "         [0.5617, 1.0000, 0.8489, 0.7724, 0.9845],\n",
      "         [0.5294, 1.0000, 0.9798, 0.9898, 0.8132],\n",
      "         [0.5537, 0.9976, 0.9877, 0.9855, 0.9905],\n",
      "         [0.5379, 1.0000, 0.9992, 1.0000, 0.9977],\n",
      "         [0.5460, 0.9982, 1.0000, 0.9998, 0.9232],\n",
      "         [0.5549, 0.9996, 1.0000, 1.0000, 0.9994],\n",
      "         [0.5921, 0.9999, 1.0000, 1.0000, 1.0000],\n",
      "         [0.5794, 0.9999, 1.0000, 1.0000, 1.0000],\n",
      "         [0.5205, 0.9984, 1.0000, 0.7705, 0.9999],\n",
      "         [0.5379, 0.9998, 1.0000, 0.9986, 0.3541],\n",
      "         [0.5557, 0.9981, 1.0000, 0.8809, 0.2307],\n",
      "         [0.5548, 1.0000, 1.0000, 0.9999, 1.0000],\n",
      "         [0.4967, 1.0000, 1.0000, 1.0000, 1.0000],\n",
      "         [0.5657, 0.9988, 0.9999, 0.9983, 1.0000],\n",
      "         [0.4987, 1.0000, 1.0000, 1.0000, 1.0000],\n",
      "         [0.5516, 1.0000, 0.9957, 0.9959, 1.0000],\n",
      "         [0.5614, 1.0000, 0.9998, 0.9690, 1.0000],\n",
      "         [0.5633, 1.0000, 0.9999, 0.9922, 1.0000],\n",
      "         [0.5361, 1.0000, 0.9999, 0.8250, 0.7128],\n",
      "         [0.5359, 0.9984, 0.9925, 0.9144, 0.9580],\n",
      "         [0.5879, 0.9997, 1.0000, 0.8745, 0.9998],\n",
      "         [0.5751, 1.0000, 0.9997, 0.9853, 0.6082],\n",
      "         [0.5525, 1.0000, 0.9171, 0.9974, 0.9995],\n",
      "         [0.5845, 0.9987, 1.0000, 0.9586, 0.9995],\n",
      "         [0.5293, 1.0000, 1.0000, 0.9833, 1.0000],\n",
      "         [0.5608, 1.0000, 1.0000, 1.0000, 1.0000],\n",
      "         [0.5582, 0.9898, 0.4194, 0.7079, 0.8625],\n",
      "         [0.5408, 1.0000, 1.0000, 1.0000, 0.9923],\n",
      "         [0.5578, 1.0000, 0.9829, 0.3191, 0.9999],\n",
      "         [0.5431, 0.9996, 0.8780, 0.9995, 1.0000],\n",
      "         [0.5321, 0.9997, 1.0000, 0.9935, 0.9992],\n",
      "         [0.5656, 0.9993, 0.9960, 0.9987, 0.9713],\n",
      "         [0.5171, 0.9977, 0.9999, 0.9695, 0.9998],\n",
      "         [0.5902, 0.9912, 0.9997, 0.9248, 0.9850],\n",
      "         [0.5293, 1.0000, 0.9333, 0.9990, 0.9929],\n",
      "         [0.5682, 1.0000, 0.8978, 0.9284, 0.9378],\n",
      "         [0.5686, 1.0000, 0.9998, 1.0000, 1.0000],\n",
      "         [0.5450, 1.0000, 0.6919, 0.9963, 1.0000],\n",
      "         [0.5540, 1.0000, 1.0000, 0.9282, 0.2483],\n",
      "         [0.5267, 0.9699, 0.9961, 0.9961, 1.0000],\n",
      "         [0.5525, 0.9904, 0.9933, 0.9950, 1.0000],\n",
      "         [0.5930, 0.9977, 0.8043, 0.0305, 0.9985],\n",
      "         [0.5315, 0.9997, 0.9899, 0.9940, 0.2108],\n",
      "         [0.5815, 1.0000, 0.5603, 0.9999, 0.9568],\n",
      "         [0.5596, 1.0000, 1.0000, 1.0000, 0.8776],\n",
      "         [0.5498, 1.0000, 1.0000, 1.0000, 0.9939],\n",
      "         [0.5649, 0.9993, 0.9926, 1.0000, 0.9999],\n",
      "         [0.5182, 1.0000, 0.8220, 1.0000, 0.9997],\n",
      "         [0.5782, 1.0000, 0.9952, 0.9999, 0.9999],\n",
      "         [0.5338, 0.9998, 0.9354, 0.8449, 0.6762],\n",
      "         [0.5499, 0.9999, 0.9841, 1.0000, 0.9999],\n",
      "         [0.5227, 0.9999, 1.0000, 1.0000, 0.9961],\n",
      "         [0.5416, 0.9936, 1.0000, 1.0000, 1.0000],\n",
      "         [0.5146, 1.0000, 1.0000, 0.9957, 0.9889],\n",
      "         [0.5389, 0.9981, 1.0000, 0.9402, 1.0000],\n",
      "         [0.5669, 0.9996, 0.9997, 0.9849, 1.0000],\n",
      "         [0.5208, 0.9994, 0.9732, 0.5862, 0.9991],\n",
      "         [0.5665, 0.9981, 0.9989, 0.9995, 0.9999],\n",
      "         [0.5704, 1.0000, 0.9930, 0.9940, 0.9972],\n",
      "         [0.5447, 1.0000, 0.9999, 1.0000, 0.9995],\n",
      "         [0.5413, 0.9996, 0.9969, 0.9484, 0.7148],\n",
      "         [0.5568, 0.9998, 0.9989, 0.9965, 1.0000],\n",
      "         [0.5460, 0.9999, 1.0000, 1.0000, 0.9999],\n",
      "         [0.5130, 1.0000, 1.0000, 1.0000, 0.9939],\n",
      "         [0.5856, 0.9994, 0.9984, 1.0000, 0.7446],\n",
      "         [0.5169, 0.9990, 0.7961, 0.9995, 1.0000],\n",
      "         [0.5492, 0.9998, 0.9998, 0.5731, 1.0000],\n",
      "         [0.5547, 0.9977, 1.0000, 0.9913, 0.9999],\n",
      "         [0.5430, 0.9997, 0.7124, 0.6723, 0.0944],\n",
      "         [0.5702, 1.0000, 0.9971, 0.9999, 0.9998],\n",
      "         [0.5733, 0.9999, 0.5938, 0.7007, 1.0000],\n",
      "         [0.5555, 0.9987, 0.9138, 0.0498, 1.0000],\n",
      "         [0.5279, 1.0000, 0.9997, 1.0000, 1.0000],\n",
      "         [0.5324, 0.9996, 0.7056, 0.5170, 0.9835],\n",
      "         [0.5522, 1.0000, 0.9490, 0.9995, 0.7119],\n",
      "         [0.5244, 0.9979, 0.9998, 0.9854, 1.0000],\n",
      "         [0.5229, 0.9971, 1.0000, 0.9707, 1.0000],\n",
      "         [0.5116, 0.9997, 1.0000, 0.9603, 1.0000],\n",
      "         [0.5786, 0.9968, 1.0000, 1.0000, 0.9926],\n",
      "         [0.5181, 0.9981, 1.0000, 1.0000, 0.9997],\n",
      "         [0.5788, 1.0000, 1.0000, 1.0000, 0.8818],\n",
      "         [0.5598, 0.9831, 1.0000, 1.0000, 0.2592],\n",
      "         [0.5274, 0.9983, 1.0000, 0.9994, 0.8542],\n",
      "         [0.5115, 0.9574, 1.0000, 1.0000, 0.9638],\n",
      "         [0.5617, 0.9997, 0.9791, 0.9997, 0.8580],\n",
      "         [0.5674, 1.0000, 0.9849, 0.9674, 0.9978],\n",
      "         [0.5357, 0.9972, 1.0000, 1.0000, 0.9374],\n",
      "         [0.5393, 0.9988, 1.0000, 1.0000, 0.7563],\n",
      "         [0.5610, 1.0000, 0.9993, 1.0000, 0.9997],\n",
      "         [0.5093, 0.9983, 0.9755, 0.1839, 0.9992],\n",
      "         [0.5957, 0.9996, 0.5852, 0.4259, 1.0000],\n",
      "         [0.5983, 1.0000, 1.0000, 1.0000, 0.9999],\n",
      "         [0.5573, 0.9951, 0.9995, 0.9494, 1.0000],\n",
      "         [0.5414, 1.0000, 0.9998, 0.9985, 1.0000],\n",
      "         [0.5146, 0.9758, 0.9989, 1.0000, 0.5000],\n",
      "         [0.5158, 0.9915, 0.9996, 1.0000, 0.6335],\n",
      "         [0.5119, 0.9998, 0.9997, 1.0000, 0.9999],\n",
      "         [0.5114, 1.0000, 0.9992, 0.8987, 1.0000],\n",
      "         [0.5844, 1.0000, 0.9999, 0.9999, 1.0000],\n",
      "         [0.5704, 0.9999, 1.0000, 0.8629, 1.0000],\n",
      "         [0.5293, 0.9983, 1.0000, 1.0000, 1.0000],\n",
      "         [0.5684, 1.0000, 0.9998, 0.9899, 0.9818],\n",
      "         [0.5320, 1.0000, 1.0000, 1.0000, 0.9033],\n",
      "         [0.5668, 1.0000, 1.0000, 0.8677, 0.9400],\n",
      "         [0.5626, 1.0000, 1.0000, 1.0000, 0.9959],\n",
      "         [0.5369, 1.0000, 1.0000, 1.0000, 0.3455],\n",
      "         [0.5869, 0.9984, 1.0000, 0.9845, 1.0000],\n",
      "         [0.5445, 1.0000, 0.9999, 0.9967, 1.0000],\n",
      "         [0.5554, 1.0000, 0.9969, 0.8823, 1.0000],\n",
      "         [0.5533, 0.9999, 0.9898, 0.9118, 1.0000],\n",
      "         [0.5387, 0.9999, 0.9982, 0.9921, 0.9934],\n",
      "         [0.5622, 1.0000, 1.0000, 0.7943, 0.9985],\n",
      "         [0.5392, 1.0000, 0.1574, 0.9928, 0.5931],\n",
      "         [0.5680, 1.0000, 0.8120, 0.3148, 0.1796],\n",
      "         [0.5360, 0.9999, 1.0000, 0.9999, 0.9999],\n",
      "         [0.5587, 1.0000, 1.0000, 0.9989, 1.0000],\n",
      "         [0.5496, 0.9998, 0.9995, 0.9553, 0.9767],\n",
      "         [0.5370, 0.9992, 0.7171, 1.0000, 0.9996],\n",
      "         [0.5380, 1.0000, 0.9998, 0.0544, 1.0000],\n",
      "         [0.5695, 0.9855, 1.0000, 1.0000, 1.0000],\n",
      "         [0.5275, 1.0000, 0.9996, 0.9994, 1.0000],\n",
      "         [0.5233, 0.9985, 0.9999, 1.0000, 0.2238],\n",
      "         [0.5381, 1.0000, 1.0000, 0.9560, 1.0000],\n",
      "         [0.5613, 0.9998, 1.0000, 0.8290, 1.0000],\n",
      "         [0.5316, 1.0000, 0.9992, 0.9942, 1.0000],\n",
      "         [0.5833, 1.0000, 1.0000, 0.8309, 0.9997],\n",
      "         [0.5699, 0.9970, 0.9283, 1.0000, 0.9982],\n",
      "         [0.5461, 0.9999, 0.9993, 1.0000, 0.9956],\n",
      "         [0.5308, 0.9996, 1.0000, 1.0000, 0.3732],\n",
      "         [0.5524, 1.0000, 0.6161, 1.0000, 1.0000],\n",
      "         [0.5441, 1.0000, 0.9998, 1.0000, 1.0000],\n",
      "         [0.5450, 1.0000, 0.9952, 1.0000, 0.4585],\n",
      "         [0.5150, 1.0000, 0.9960, 1.0000, 0.0752],\n",
      "         [0.5737, 1.0000, 0.7537, 0.9999, 1.0000],\n",
      "         [0.5667, 1.0000, 0.9993, 0.9202, 1.0000],\n",
      "         [0.5572, 1.0000, 0.9930, 0.9974, 1.0000],\n",
      "         [0.5799, 1.0000, 0.9547, 0.9220, 0.3889],\n",
      "         [0.5237, 1.0000, 0.9777, 1.0000, 1.0000],\n",
      "         [0.5465, 0.9999, 0.9546, 0.9997, 0.7417],\n",
      "         [0.5517, 0.9991, 0.9824, 0.9979, 1.0000],\n",
      "         [0.5574, 1.0000, 0.9795, 0.9993, 0.9457],\n",
      "         [0.5450, 1.0000, 0.9929, 0.9809, 0.9997],\n",
      "         [0.5509, 0.9983, 0.9854, 0.9199, 0.9957],\n",
      "         [0.5508, 1.0000, 1.0000, 0.9920, 0.9997],\n",
      "         [0.5464, 1.0000, 0.9578, 1.0000, 1.0000],\n",
      "         [0.5290, 1.0000, 0.9999, 1.0000, 1.0000],\n",
      "         [0.5691, 0.9995, 0.9991, 1.0000, 1.0000],\n",
      "         [0.5290, 0.9998, 0.8827, 0.9969, 0.9994],\n",
      "         [0.5419, 0.9994, 0.9992, 1.0000, 0.6641],\n",
      "         [0.5157, 0.9999, 0.9987, 1.0000, 0.0306],\n",
      "         [0.5812, 1.0000, 1.0000, 0.8388, 0.9928],\n",
      "         [0.5267, 0.9976, 0.1039, 0.9999, 1.0000],\n",
      "         [0.5665, 1.0000, 1.0000, 1.0000, 0.9992],\n",
      "         [0.5512, 1.0000, 0.8577, 0.0263, 0.5458]]]), 'mu': tensor([[[ 5.6398e-02,  5.1464e+00, -2.6922e+00, -2.9989e+00, -9.4879e-01,\n",
      "           4.5745e+00],\n",
      "         [ 3.7961e-02,  4.9704e+00, -7.2917e-01,  2.7384e+00, -1.0907e+00,\n",
      "           1.1633e+00],\n",
      "         [-6.1193e-02,  4.9932e+00, -1.3702e+00, -8.3908e+00,  5.3587e+00,\n",
      "          -6.8075e+00],\n",
      "         ...,\n",
      "         [ 9.7789e-03,  5.1150e+00,  6.9627e+00, -8.1727e-01,  5.4689e+00,\n",
      "           2.5678e+00],\n",
      "         [-3.2679e-02,  5.0935e+00,  1.6908e+00, -1.7538e+00, -7.8305e+00,\n",
      "          -2.8526e+00],\n",
      "         [-4.4743e-02,  5.0109e+00,  1.9736e+00,  3.0137e+00,  1.2846e+01,\n",
      "          -6.2317e+00]]])}\n"
     ]
    }
   ],
   "source": [
    "# the following three lines are to save results to file\n",
    "# f = open(\"results/mcmc_results.pkl\", \"wb\")\n",
    "# pickle.dump(mcmc_samples, f)\n",
    "# f.close()\n",
    "\n",
    "# the following is to load results from file\n",
    "f = open(\"results/mcmc_results.pkl\", \"rb\")\n",
    "output = pickle.load(f)\n",
    "print(output)\n",
    "f.close()\n",
    "\n",
    "# reassign mcmc_samples\n",
    "mcmc_samples = output"
   ]
  },
  {
   "cell_type": "code",
   "execution_count": 29,
   "metadata": {},
   "outputs": [
    {
     "name": "stdout",
     "output_type": "stream",
     "text": [
      "torch.Size([1, 200, 6])\n"
     ]
    },
    {
     "data": {
      "text/plain": [
       "<AxesSubplot:ylabel='Density'>"
      ]
     },
     "execution_count": 29,
     "metadata": {},
     "output_type": "execute_result"
    },
    {
     "data": {
      "image/png": "[encoded data removed]",
      "text/plain": [
       "<Figure size 432x288 with 1 Axes>"
      ]
     },
     "metadata": {
      "needs_background": "light"
     },
     "output_type": "display_data"
    }
   ],
   "source": [
    "import seaborn as sns\n",
    "\n",
    "print(mcmc_samples['mu'].shape)\n",
    "sns.distplot(mcmc_samples[\"mu\"])"
   ]
  },
  {
   "cell_type": "code",
   "execution_count": 30,
   "metadata": {},
   "outputs": [],
   "source": [
    "from scipy.stats import norm \n",
    "\n",
    "w = mix_weights(beta)[-1]\n",
    "n_samples = mu.shape[0]\n",
    "n = data.shape[0]\n",
    "cluster = np.zeros(n)\n",
    "\n",
    "for i in range(n):\n",
    "    q = torch.zeros(T)\n",
    "    for j in range(T):\n",
    "        q[j] = w[j]*norm.pdf(data[i], mu[-1][j], 1.) + q[j]\n",
    "\n",
    "    cluster[i] = np.argmax(q)"
   ]
  },
  {
   "cell_type": "code",
   "execution_count": 32,
   "metadata": {},
   "outputs": [
    {
     "data": {
      "text/plain": [
       "<matplotlib.image.AxesImage at 0x2b90d5b3970>"
      ]
     },
     "execution_count": 32,
     "metadata": {},
     "output_type": "execute_result"
    },
    {
     "data": {
      "image/png": "[encoded data removed]",
      "text/plain": [
       "<Figure size 432x288 with 2 Axes>"
      ]
     },
     "metadata": {
      "needs_background": "light"
     },
     "output_type": "display_data"
    }
   ],
   "source": [
    "fig = plt.figure()\n",
    "ax1 = fig.add_subplot(121)  # left side\n",
    "ax2 = fig.add_subplot(122) \n",
    "\n",
    "ax1.imshow( np.reshape(data, (20,20)))\n",
    "ax2.imshow( np.reshape(cluster, (20,20)))\n"
   ]
  },
  {
   "cell_type": "markdown",
   "metadata": {},
   "source": [
    "### How many clusters are found?"
   ]
  },
  {
   "cell_type": "code",
   "execution_count": 34,
   "metadata": {},
   "outputs": [
    {
     "name": "stdout",
     "output_type": "stream",
     "text": [
      "number of clusters found:  2\n"
     ]
    }
   ],
   "source": [
    "print(\"number of clusters found: \", len(np.unique(cluster)))"
   ]
  }
 ],
 "metadata": {
  "interpreter": {
   "hash": "1d4df73e08e394aceedb93fd289f1fdb03087f2b8b3b3a9e1d14c5267e8bf280"
  },
  "kernelspec": {
   "display_name": "Python 3.9.5 ('deep-learn')",
   "language": "python",
   "name": "python3"
  },
  "language_info": {
   "codemirror_mode": {
    "name": "ipython",
    "version": 3
   },
   "file_extension": ".py",
   "mimetype": "text/x-python",
   "name": "python",
   "nbconvert_exporter": "python",
   "pygments_lexer": "ipython3",
   "version": "3.9.5"
  },
  "orig_nbformat": 4
 },
 "nbformat": 4,
 "nbformat_minor": 2
}

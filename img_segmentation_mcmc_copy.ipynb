{
 "cells": [
  {
   "cell_type": "code",
   "execution_count": 1,
   "metadata": {},
   "outputs": [],
   "source": [
    "import matplotlib.pyplot as plt\n",
    "import numpy as np\n",
    "import pandas as pd\n",
    "from tqdm import tqdm\n",
    "\n",
    "import torch\n",
    "import torch.nn.functional as F\n",
    "from torch.distributions import constraints\n",
    "\n",
    "import pyro\n",
    "import pyro.distributions as dist\n",
    "from pyro.distributions import *\n",
    "from pyro.infer import Predictive, SVI, Trace_ELBO\n",
    "from pyro.infer.mcmc import MCMC, HMC, NUTS, mcmc_kernel\n",
    "\n",
    "from pyro.optim import Adam\n",
    "import numpy as np\n",
    "from scipy import ndimage\n",
    "import matplotlib.pyplot as plt\n",
    "from sklearn.mixture import GaussianMixture\n",
    "import warnings\n",
    "warnings.filterwarnings('ignore')\n",
    "\n",
    "assert pyro.__version__.startswith('1.8.1')\n",
    "pyro.set_rng_seed(0)"
   ]
  },
  {
   "cell_type": "code",
   "execution_count": 2,
   "metadata": {},
   "outputs": [],
   "source": [
    "def mix_weights(beta):\n",
    "    beta1m_cumprod = (1 - beta).cumprod(-1)\n",
    "    return F.pad(beta, (0, 1), value=1) * F.pad(beta1m_cumprod, (1, 0), value=1)"
   ]
  },
  {
   "cell_type": "code",
   "execution_count": 22,
   "metadata": {},
   "outputs": [
    {
     "data": {
      "text/plain": [
       "<matplotlib.image.AxesImage at 0x26ffe8ac940>"
      ]
     },
     "execution_count": 22,
     "metadata": {},
     "output_type": "execute_result"
    },
    {
     "data": {
      "image/png": "[encoded data removed]",
      "text/plain": [
       "<Figure size 432x288 with 1 Axes>"
      ]
     },
     "metadata": {
      "needs_background": "light"
     },
     "output_type": "display_data"
    }
   ],
   "source": [
    "np.random.seed(1)\n",
    "n = 10\n",
    "l = 20\n",
    "im = np.zeros((l, l))  # im lxl\n",
    "points = l*np.random.random((3, n**2))\n",
    "\n",
    "im[(points[0]).astype(np.int), (points[1]).astype(np.int)] = 20 # random noise\n",
    "#plt.imshow(np.reshape(im, (256,256)))\n",
    "\n",
    "im = ndimage.gaussian_filter(im, sigma=l/(2.*n))\n",
    "plt.imshow(np.reshape(im, (l,l)))\n",
    "\n",
    "mask = (im > im.mean()).astype(np.float)\n",
    "img = mask*20 + 0.8*np.random.randn(*mask.shape)\n",
    "plt.imshow(np.reshape(img, (l,l)))\n",
    "\n"
   ]
  },
  {
   "cell_type": "code",
   "execution_count": 23,
   "metadata": {},
   "outputs": [
    {
     "data": {
      "text/plain": [
       "[<matplotlib.lines.Line2D at 0x26ffe94d610>]"
      ]
     },
     "execution_count": 23,
     "metadata": {},
     "output_type": "execute_result"
    },
    {
     "data": {
      "image/png": "[encoded data removed]",
      "text/plain": [
       "<Figure size 432x288 with 1 Axes>"
      ]
     },
     "metadata": {
      "needs_background": "light"
     },
     "output_type": "display_data"
    }
   ],
   "source": [
    "hist, bin_edges = np.histogram(img, bins=60)\n",
    "bin_centers = 0.5*(bin_edges[:-1] + bin_edges[1:])\n",
    "plt.plot(bin_centers, hist, lw=2)\n"
   ]
  },
  {
   "cell_type": "code",
   "execution_count": 24,
   "metadata": {},
   "outputs": [],
   "source": [
    "def model(data):\n",
    "    with pyro.plate(\"beta_plate\", T-1):\n",
    "        beta = pyro.sample(\"beta\", Beta(1, alpha))\n",
    "\n",
    "    with pyro.plate(\"mu_plate\", T):\n",
    "        mu = pyro.sample(\"mu\", Normal(0., 5.))\n",
    "\n",
    "    with pyro.plate(\"data\", N):\n",
    "        z = pyro.sample(\"z\", Categorical(mix_weights(beta))) \n",
    "        pyro.sample(\"obs\", Normal(mu[z], 1.), obs=data)\n",
    "\n",
    "    return beta,mu,z"
   ]
  },
  {
   "cell_type": "code",
   "execution_count": 25,
   "metadata": {},
   "outputs": [
    {
     "data": {
      "image/svg+xml": "<?xml version=\"1.0\" encoding=\"UTF-8\" standalone=\"no\"?>\n<!DOCTYPE svg PUBLIC \"-//W3C//DTD SVG 1.1//EN\"\n \"http://www.w3.org/Graphics/SVG/1.1/DTD/svg11.dtd\">\n<!-- Generated by graphviz version 3.0.0 (20220226.1711)\n -->\n<!-- Pages: 1 -->\n<svg width=\"200pt\" height=\"262pt\"\n viewBox=\"0.00 0.00 199.50 262.00\" xmlns=\"http://www.w3.org/2000/svg\" xmlns:xlink=\"http://www.w3.org/1999/xlink\">\n<g id=\"graph0\" class=\"graph\" transform=\"scale(1 1) rotate(0) translate(4 258)\">\n<polygon fill=\"white\" stroke=\"transparent\" points=\"-4,4 -4,-258 195.5,-258 195.5,4 -4,4\"/>\n<g id=\"clust1\" class=\"cluster\">\n<title>cluster_beta_plate</title>\n<polygon fill=\"none\" stroke=\"black\" points=\"8,-171 8,-246 82,-246 82,-171 8,-171\"/>\n<text text-anchor=\"middle\" x=\"45\" y=\"-178.8\" font-family=\"Times New Roman,serif\" font-size=\"14.00\">beta_plate</text>\n</g>\n<g id=\"clust3\" class=\"cluster\">\n<title>cluster_data</title>\n<polygon fill=\"none\" stroke=\"black\" points=\"9,-8 9,-158 79,-158 79,-8 9,-8\"/>\n<text text-anchor=\"middle\" x=\"59\" y=\"-15.8\" font-family=\"Times New Roman,serif\" font-size=\"14.00\">data</text>\n</g>\n<g id=\"clust2\" class=\"cluster\">\n<title>cluster_mu_plate</title>\n<polygon fill=\"none\" stroke=\"black\" points=\"87,-83 87,-158 157,-158 157,-83 87,-83\"/>\n<text text-anchor=\"middle\" x=\"123\" y=\"-90.8\" font-family=\"Times New Roman,serif\" font-size=\"14.00\">mu_plate</text>\n</g>\n<!-- beta -->\n<g id=\"node1\" class=\"node\">\n<title>beta</title>\n<ellipse fill=\"white\" stroke=\"black\" cx=\"44\" cy=\"-220\" rx=\"27\" ry=\"18\"/>\n<text text-anchor=\"middle\" x=\"44\" y=\"-216.3\" font-family=\"Times New Roman,serif\" font-size=\"14.00\">beta</text>\n</g>\n<!-- z -->\n<g id=\"node3\" class=\"node\">\n<title>z</title>\n<ellipse fill=\"white\" stroke=\"black\" cx=\"44\" cy=\"-132\" rx=\"27\" ry=\"18\"/>\n<text text-anchor=\"middle\" x=\"44\" y=\"-128.3\" font-family=\"Times New Roman,serif\" font-size=\"14.00\">z</text>\n</g>\n<!-- beta&#45;&gt;z -->\n<g id=\"edge1\" class=\"edge\">\n<title>beta&#45;&gt;z</title>\n<path fill=\"none\" stroke=\"black\" d=\"M44,-201.6C44,-189.75 44,-173.82 44,-160.29\"/>\n<polygon fill=\"black\" stroke=\"black\" points=\"47.5,-160.08 44,-150.08 40.5,-160.08 47.5,-160.08\"/>\n</g>\n<!-- mu -->\n<g id=\"node2\" class=\"node\">\n<title>mu</title>\n<ellipse fill=\"white\" stroke=\"black\" cx=\"122\" cy=\"-132\" rx=\"27\" ry=\"18\"/>\n<text text-anchor=\"middle\" x=\"122\" y=\"-128.3\" font-family=\"Times New Roman,serif\" font-size=\"14.00\">mu</text>\n</g>\n<!-- obs -->\n<g id=\"node4\" class=\"node\">\n<title>obs</title>\n<ellipse fill=\"grey\" stroke=\"black\" cx=\"44\" cy=\"-57\" rx=\"27\" ry=\"18\"/>\n<text text-anchor=\"middle\" x=\"44\" y=\"-53.3\" font-family=\"Times New Roman,serif\" font-size=\"14.00\">obs</text>\n</g>\n<!-- mu&#45;&gt;obs -->\n<g id=\"edge2\" class=\"edge\">\n<title>mu&#45;&gt;obs</title>\n<path fill=\"none\" stroke=\"black\" d=\"M111.18,-115.22C103.91,-105.29 93.73,-92.59 83,-83 79.83,-80.17 76.3,-77.44 72.71,-74.89\"/>\n<polygon fill=\"black\" stroke=\"black\" points=\"74.58,-71.93 64.31,-69.31 70.71,-77.76 74.58,-71.93\"/>\n</g>\n<!-- z&#45;&gt;obs -->\n<g id=\"edge3\" class=\"edge\">\n<title>z&#45;&gt;obs</title>\n<path fill=\"none\" stroke=\"black\" d=\"M44,-113.7C44,-105.25 44,-94.87 44,-85.37\"/>\n<polygon fill=\"black\" stroke=\"black\" points=\"47.5,-85.18 44,-75.18 40.5,-85.18 47.5,-85.18\"/>\n</g>\n<!-- distribution_description_node -->\n<g id=\"node5\" class=\"node\">\n<title>distribution_description_node</title>\n<text text-anchor=\"start\" x=\"98.5\" y=\"-238.8\" font-family=\"Times New Roman,serif\" font-size=\"14.00\">beta ~ Beta</text>\n<text text-anchor=\"start\" x=\"98.5\" y=\"-223.8\" font-family=\"Times New Roman,serif\" font-size=\"14.00\">mu ~ Normal</text>\n<text text-anchor=\"start\" x=\"98.5\" y=\"-208.8\" font-family=\"Times New Roman,serif\" font-size=\"14.00\">z ~ Categorical</text>\n<text text-anchor=\"start\" x=\"98.5\" y=\"-193.8\" font-family=\"Times New Roman,serif\" font-size=\"14.00\">obs ~ Normal</text>\n</g>\n</g>\n</svg>\n",
      "text/plain": [
       "<graphviz.graphs.Digraph at 0x26ffe8ac610>"
      ]
     },
     "execution_count": 25,
     "metadata": {},
     "output_type": "execute_result"
    }
   ],
   "source": [
    "T = 6\n",
    "N = 400\n",
    "alpha = 0.05\n",
    "\n",
    "data = torch.reshape(torch.tensor(img), (-1,)).float()\n",
    "N = data.shape[0]\n",
    "pyro.render_model(model, model_args=(data,), render_distributions=True)"
   ]
  },
  {
   "cell_type": "code",
   "execution_count": 26,
   "metadata": {},
   "outputs": [
    {
     "name": "stderr",
     "output_type": "stream",
     "text": [
      "Sample: 100%|██████████| 700/700 [04:44,  2.46it/s, step size=2.12e-01, acc. prob=0.856]"
     ]
    },
    {
     "name": "stdout",
     "output_type": "stream",
     "text": [
      "\n",
      "                mean       std    median      5.0%     95.0%     n_eff     r_hat\n",
      "   beta[0]      0.45      0.02      0.45      0.42      0.49    204.30      1.00\n",
      "   beta[1]      1.00      0.00      1.00      1.00      1.00    106.48      1.02\n",
      "   beta[2]      0.92      0.20      1.00      0.71      1.00    167.25      1.00\n",
      "   beta[3]      0.92      0.19      1.00      0.70      1.00    168.12      1.01\n",
      "   beta[4]      0.91      0.17      1.00      0.67      1.00    190.11      1.00\n",
      "     mu[0]     20.08      0.07     20.07     19.96     20.19    152.32      1.00\n",
      "     mu[1]     -0.03      0.07     -0.03     -0.14      0.10    103.31      1.03\n",
      "     mu[2]      0.14      4.52      0.07     -7.04      7.59    183.18      1.00\n",
      "     mu[3]      0.42      4.48      0.51     -7.09      6.94    228.94      1.00\n",
      "     mu[4]     -0.64      4.63     -1.15     -7.78      6.94    178.56      1.01\n",
      "     mu[5]     -0.66      4.52     -0.67     -7.85      6.49    195.27      1.01\n",
      "\n",
      "Number of divergences: 1\n"
     ]
    },
    {
     "name": "stderr",
     "output_type": "stream",
     "text": [
      "\n"
     ]
    }
   ],
   "source": [
    "pyro.clear_param_store()\n",
    "nuts_kernel = NUTS(model)\n",
    "mcmc = MCMC(nuts_kernel, warmup_steps=500, num_samples=200, num_chains=1)\n",
    "mcmc.run(data=data)\n",
    "mcmc.summary()"
   ]
  },
  {
   "cell_type": "code",
   "execution_count": 27,
   "metadata": {},
   "outputs": [],
   "source": [
    "mcmc_samples = mcmc.get_samples(group_by_chain=True)\n",
    "\n",
    "beta = mcmc_samples['beta'][0]\n",
    "mu = mcmc_samples['mu'][0]\n",
    "#sigma = mcmc_samples['sigma'][0]"
   ]
  },
  {
   "cell_type": "code",
   "execution_count": 28,
   "metadata": {},
   "outputs": [
    {
     "name": "stdout",
     "output_type": "stream",
     "text": [
      "torch.Size([1, 200, 6])\n"
     ]
    },
    {
     "data": {
      "text/plain": [
       "<AxesSubplot:ylabel='Density'>"
      ]
     },
     "execution_count": 28,
     "metadata": {},
     "output_type": "execute_result"
    },
    {
     "data": {
      "image/png": "[encoded data removed]",
      "text/plain": [
       "<Figure size 432x288 with 1 Axes>"
      ]
     },
     "metadata": {
      "needs_background": "light"
     },
     "output_type": "display_data"
    }
   ],
   "source": [
    "import seaborn as sns\n",
    "\n",
    "print(mcmc_samples['mu'].shape)\n",
    "sns.distplot(mcmc_samples[\"mu\"])"
   ]
  },
  {
   "cell_type": "code",
   "execution_count": 15,
   "metadata": {},
   "outputs": [
    {
     "name": "stdout",
     "output_type": "stream",
     "text": [
      "tensor([0.9999, 0.9998, 1.0000, 0.9566, 1.0000])\n",
      "tensor([ 0.4512,  1.4713,  5.9796, -3.5902, -2.7223, -4.3064])\n",
      "tensor([9.9994e-01, 5.5661e-05, 9.4503e-09, 1.0777e-15, 4.8858e-17, 1.5435e-21])\n",
      "tensor([0])\n",
      "tensor([ 0.4963, -0.3330,  3.5077,  2.7781, -3.5926, -7.5180])\n"
     ]
    }
   ],
   "source": [
    "print(beta[400])\n",
    "print(mu[300])\n",
    "print(mix_weights(beta[400]))\n",
    "print(Categorical(mix_weights(beta[400])).sample([1]))\n",
    "print(mu[400])"
   ]
  },
  {
   "cell_type": "code",
   "execution_count": 29,
   "metadata": {},
   "outputs": [],
   "source": [
    "from scipy.stats import norm \n",
    "\n",
    "w = mix_weights(beta)[-1]\n",
    "n_samples = mu.shape[0]\n",
    "n = data.shape[0]\n",
    "cluster = np.zeros(n)\n",
    "\n",
    "for i in range(n):\n",
    "    q = torch.zeros(T)\n",
    "    for j in range(T):\n",
    "        q[j] = w[j]*norm.pdf(data[i], mu[-1][j], 1.) + q[j]\n",
    "\n",
    "    cluster[i] = np.argmax(q)"
   ]
  },
  {
   "cell_type": "code",
   "execution_count": 33,
   "metadata": {},
   "outputs": [
    {
     "data": {
      "text/plain": [
       "<matplotlib.image.AxesImage at 0x26ffec76df0>"
      ]
     },
     "execution_count": 33,
     "metadata": {},
     "output_type": "execute_result"
    },
    {
     "data": {
      "image/png": "[encoded data removed]",
      "text/plain": [
       "<Figure size 432x288 with 2 Axes>"
      ]
     },
     "metadata": {
      "needs_background": "light"
     },
     "output_type": "display_data"
    }
   ],
   "source": [
    "fig = plt.figure()\n",
    "ax1 = fig.add_subplot(121)  # left side\n",
    "ax2 = fig.add_subplot(122) \n",
    "\n",
    "ax1.imshow( np.reshape(data, (20,20)))\n",
    "ax2.imshow( np.reshape(cluster, (20,20)))\n"
   ]
  }
 ],
 "metadata": {
  "interpreter": {
   "hash": "1d4df73e08e394aceedb93fd289f1fdb03087f2b8b3b3a9e1d14c5267e8bf280"
  },
  "kernelspec": {
   "display_name": "Python 3.9.5 ('deep-learn')",
   "language": "python",
   "name": "python3"
  },
  "language_info": {
   "codemirror_mode": {
    "name": "ipython",
    "version": 3
   },
   "file_extension": ".py",
   "mimetype": "text/x-python",
   "name": "python",
   "nbconvert_exporter": "python",
   "pygments_lexer": "ipython3",
   "version": "3.9.5"
  },
  "orig_nbformat": 4
 },
 "nbformat": 4,
 "nbformat_minor": 2
}
